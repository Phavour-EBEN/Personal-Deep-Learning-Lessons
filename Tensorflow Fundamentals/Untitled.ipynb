{
 "cells": [
  {
   "cell_type": "code",
   "execution_count": 2,
   "id": "27b2d47b",
   "metadata": {
    "scrolled": false
   },
   "outputs": [],
   "source": [
    "import tensorflow as tf\n",
    "import numpy as np"
   ]
  },
  {
   "cell_type": "code",
   "execution_count": 3,
   "id": "6a60c7d0",
   "metadata": {
    "scrolled": false
   },
   "outputs": [
    {
     "data": {
      "text/plain": [
       "<tf.Tensor: shape=(3, 2), dtype=float32, numpy=\n",
       "array([[-1.3240396 ,  0.28785667],\n",
       "       [-0.8757901 , -0.08857018],\n",
       "       [ 0.69211644,  0.84215707]], dtype=float32)>"
      ]
     },
     "execution_count": 3,
     "metadata": {},
     "output_type": "execute_result"
    }
   ],
   "source": [
    "# creating random tensors\n",
    "random_1 = tf.random.Generator.from_seed(7)\n",
    "random_1 = random_1.normal(shape = (3,2))\n",
    "random_1"
   ]
  },
  {
   "cell_type": "code",
   "execution_count": 4,
   "id": "b8a50f73",
   "metadata": {},
   "outputs": [
    {
     "data": {
      "text/plain": [
       "<tf.Tensor: shape=(3, 2), dtype=float32, numpy=\n",
       "array([[-0.7565803 , -0.06854702],\n",
       "       [ 0.07595026, -1.2573844 ],\n",
       "       [-0.23193763, -1.8107855 ]], dtype=float32)>"
      ]
     },
     "execution_count": 4,
     "metadata": {},
     "output_type": "execute_result"
    }
   ],
   "source": [
    "random_2 = tf.random.Generator.from_seed(42)\n",
    "random_2 = random_2.normal([3,2])\n",
    "random_2"
   ]
  },
  {
   "cell_type": "code",
   "execution_count": 5,
   "id": "36b509d3",
   "metadata": {},
   "outputs": [
    {
     "data": {
      "text/plain": [
       "<tf.Tensor: shape=(3, 2), dtype=int32, numpy=\n",
       "array([[3, 2],\n",
       "       [5, 6],\n",
       "       [9, 5]])>"
      ]
     },
     "execution_count": 5,
     "metadata": {},
     "output_type": "execute_result"
    }
   ],
   "source": [
    "# SHuffling\n",
    "\n",
    "not_shuffled = tf.constant([[3,2],\n",
    "                           [5,6],\n",
    "                           [9,5]])\n",
    "not_shuffled"
   ]
  },
  {
   "cell_type": "code",
   "execution_count": 6,
   "id": "58a3ae54",
   "metadata": {},
   "outputs": [
    {
     "data": {
      "text/plain": [
       "<tf.Tensor: shape=(3, 2), dtype=int32, numpy=\n",
       "array([[3, 2],\n",
       "       [9, 5],\n",
       "       [5, 6]])>"
      ]
     },
     "execution_count": 6,
     "metadata": {},
     "output_type": "execute_result"
    }
   ],
   "source": [
    "tf.random.set_seed(-42)\n",
    "tf.random.shuffle(not_shuffled)"
   ]
  },
  {
   "cell_type": "code",
   "execution_count": 7,
   "id": "0da7b94f",
   "metadata": {},
   "outputs": [
    {
     "data": {
      "text/plain": [
       "array([ 1,  2,  3,  4,  5,  6,  7,  8,  9, 10, 11, 12, 13, 14, 15, 16, 17,\n",
       "       18, 19, 20, 21, 22, 23, 24])"
      ]
     },
     "execution_count": 7,
     "metadata": {},
     "output_type": "execute_result"
    }
   ],
   "source": [
    "import numpy as np\n",
    "numpy_a = np.arange(1,25)\n",
    "numpy_a"
   ]
  },
  {
   "cell_type": "code",
   "execution_count": 8,
   "id": "3b492fe9",
   "metadata": {},
   "outputs": [
    {
     "data": {
      "text/plain": [
       "<tf.Tensor: shape=(2, 3, 4), dtype=int32, numpy=\n",
       "array([[[ 1,  2,  3,  4],\n",
       "        [ 5,  6,  7,  8],\n",
       "        [ 9, 10, 11, 12]],\n",
       "\n",
       "       [[13, 14, 15, 16],\n",
       "        [17, 18, 19, 20],\n",
       "        [21, 22, 23, 24]]])>"
      ]
     },
     "execution_count": 8,
     "metadata": {},
     "output_type": "execute_result"
    }
   ],
   "source": [
    "tf.constant(numpy_a, shape=(2,3,4))"
   ]
  },
  {
   "cell_type": "code",
   "execution_count": 9,
   "id": "98c09a54",
   "metadata": {},
   "outputs": [],
   "source": [
    "##Getting information from data\n",
    "# rank/dim\n",
    "# shape\n",
    "# size\n",
    "# dtype"
   ]
  },
  {
   "cell_type": "code",
   "execution_count": 10,
   "id": "d97a3822",
   "metadata": {},
   "outputs": [
    {
     "data": {
      "text/plain": [
       "<tf.Tensor: shape=(2, 4, 3, 4), dtype=float32, numpy=\n",
       "array([[[[1., 1., 1., 1.],\n",
       "         [1., 1., 1., 1.],\n",
       "         [1., 1., 1., 1.]],\n",
       "\n",
       "        [[1., 1., 1., 1.],\n",
       "         [1., 1., 1., 1.],\n",
       "         [1., 1., 1., 1.]],\n",
       "\n",
       "        [[1., 1., 1., 1.],\n",
       "         [1., 1., 1., 1.],\n",
       "         [1., 1., 1., 1.]],\n",
       "\n",
       "        [[1., 1., 1., 1.],\n",
       "         [1., 1., 1., 1.],\n",
       "         [1., 1., 1., 1.]]],\n",
       "\n",
       "\n",
       "       [[[1., 1., 1., 1.],\n",
       "         [1., 1., 1., 1.],\n",
       "         [1., 1., 1., 1.]],\n",
       "\n",
       "        [[1., 1., 1., 1.],\n",
       "         [1., 1., 1., 1.],\n",
       "         [1., 1., 1., 1.]],\n",
       "\n",
       "        [[1., 1., 1., 1.],\n",
       "         [1., 1., 1., 1.],\n",
       "         [1., 1., 1., 1.]],\n",
       "\n",
       "        [[1., 1., 1., 1.],\n",
       "         [1., 1., 1., 1.],\n",
       "         [1., 1., 1., 1.]]]], dtype=float32)>"
      ]
     },
     "execution_count": 10,
     "metadata": {},
     "output_type": "execute_result"
    }
   ],
   "source": [
    "# Creating a rank 4 tensor\n",
    "\n",
    "rank4 = tf.ones(shape=(2,4,3,4))\n",
    "rank4"
   ]
  },
  {
   "cell_type": "code",
   "execution_count": 11,
   "id": "e421f456",
   "metadata": {},
   "outputs": [
    {
     "data": {
      "text/plain": [
       "<tf.Tensor: shape=(2, 2, 2, 2), dtype=float32, numpy=\n",
       "array([[[[1., 1.],\n",
       "         [1., 1.]],\n",
       "\n",
       "        [[1., 1.],\n",
       "         [1., 1.]]],\n",
       "\n",
       "\n",
       "       [[[1., 1.],\n",
       "         [1., 1.]],\n",
       "\n",
       "        [[1., 1.],\n",
       "         [1., 1.]]]], dtype=float32)>"
      ]
     },
     "execution_count": 11,
     "metadata": {},
     "output_type": "execute_result"
    }
   ],
   "source": [
    "rank4[:2,:2,:2,2:]"
   ]
  },
  {
   "cell_type": "code",
   "execution_count": 12,
   "id": "1f7687bb",
   "metadata": {},
   "outputs": [
    {
     "data": {
      "text/plain": [
       "<tf.Tensor: shape=(1, 1, 1, 4), dtype=float32, numpy=array([[[[1., 1., 1., 1.]]]], dtype=float32)>"
      ]
     },
     "execution_count": 12,
     "metadata": {},
     "output_type": "execute_result"
    }
   ],
   "source": [
    "rank4[:1,:1,:1,:]"
   ]
  },
  {
   "cell_type": "code",
   "execution_count": 13,
   "id": "f6276d6e",
   "metadata": {},
   "outputs": [],
   "source": [
    "rank2_tensor = tf.constant([[7,3],\n",
    "                            [5,4]])"
   ]
  },
  {
   "cell_type": "code",
   "execution_count": 14,
   "id": "0b5d06b5",
   "metadata": {},
   "outputs": [
    {
     "data": {
      "text/plain": [
       "<tf.Tensor: shape=(2, 2), dtype=int32, numpy=\n",
       "array([[7, 3],\n",
       "       [5, 4]])>"
      ]
     },
     "execution_count": 14,
     "metadata": {},
     "output_type": "execute_result"
    }
   ],
   "source": [
    "rank2_tensor"
   ]
  },
  {
   "cell_type": "code",
   "execution_count": 15,
   "id": "792f6d7b",
   "metadata": {},
   "outputs": [
    {
     "data": {
      "text/plain": [
       "2"
      ]
     },
     "execution_count": 15,
     "metadata": {},
     "output_type": "execute_result"
    }
   ],
   "source": [
    "rank2_tensor.ndim "
   ]
  },
  {
   "cell_type": "markdown",
   "id": "bf8a5103",
   "metadata": {},
   "source": [
    "INDEXING \n"
   ]
  },
  {
   "cell_type": "code",
   "execution_count": 16,
   "id": "80b56d27",
   "metadata": {},
   "outputs": [
    {
     "data": {
      "text/plain": [
       "<tf.Tensor: shape=(2,), dtype=int32, numpy=array([3, 4])>"
      ]
     },
     "execution_count": 16,
     "metadata": {},
     "output_type": "execute_result"
    }
   ],
   "source": [
    "rank2_tensor[:,1]"
   ]
  },
  {
   "cell_type": "code",
   "execution_count": 17,
   "id": "f0ee9b16",
   "metadata": {},
   "outputs": [
    {
     "data": {
      "text/plain": [
       "<tf.Tensor: shape=(1, 1), dtype=int32, numpy=array([[7]])>"
      ]
     },
     "execution_count": 17,
     "metadata": {},
     "output_type": "execute_result"
    }
   ],
   "source": [
    "# last item\n",
    "rank2_tensor[:-1,:-1]"
   ]
  },
  {
   "cell_type": "markdown",
   "id": "60e05f05",
   "metadata": {},
   "source": [
    "ADDING AN EXTRA DIMENSION"
   ]
  },
  {
   "cell_type": "code",
   "execution_count": 18,
   "id": "d7ced059",
   "metadata": {},
   "outputs": [
    {
     "data": {
      "text/plain": [
       "<tf.Tensor: shape=(2, 2, 1), dtype=int32, numpy=\n",
       "array([[[7],\n",
       "        [3]],\n",
       "\n",
       "       [[5],\n",
       "        [4]]])>"
      ]
     },
     "execution_count": 18,
     "metadata": {},
     "output_type": "execute_result"
    }
   ],
   "source": [
    "rank3_tensor = rank2_tensor[..., tf.newaxis]\n",
    "rank3_tensor"
   ]
  },
  {
   "cell_type": "code",
   "execution_count": 19,
   "id": "1dfbbf51",
   "metadata": {},
   "outputs": [
    {
     "data": {
      "text/plain": [
       "<tf.Tensor: shape=(1, 2, 2), dtype=int32, numpy=\n",
       "array([[[7, 3],\n",
       "        [5, 4]]])>"
      ]
     },
     "execution_count": 19,
     "metadata": {},
     "output_type": "execute_result"
    }
   ],
   "source": [
    "rank3_tensor = tf.expand_dims(rank2_tensor, axis=0)\n",
    "rank3_tensor"
   ]
  },
  {
   "cell_type": "code",
   "execution_count": 20,
   "id": "3f5b1f15",
   "metadata": {},
   "outputs": [
    {
     "data": {
      "text/plain": [
       "<tf.Tensor: shape=(1, 2, 2), dtype=int32, numpy=\n",
       "array([[[7, 3],\n",
       "        [5, 4]]])>"
      ]
     },
     "execution_count": 20,
     "metadata": {},
     "output_type": "execute_result"
    }
   ],
   "source": [
    "rank3_tensor"
   ]
  },
  {
   "cell_type": "code",
   "execution_count": 21,
   "id": "e4512bc9",
   "metadata": {},
   "outputs": [],
   "source": [
    "# Manipulations\n",
    "tensor_uniform = tf.random.uniform(shape=(3,5),minval=5.0,maxval=5.9)"
   ]
  },
  {
   "cell_type": "code",
   "execution_count": 22,
   "id": "add1b718",
   "metadata": {},
   "outputs": [
    {
     "data": {
      "text/plain": [
       "<tf.Tensor: shape=(3, 5), dtype=float32, numpy=\n",
       "array([[5.3739567, 5.85714  , 5.7719216, 5.7314014, 5.084743 ],\n",
       "       [5.231156 , 5.5555124, 5.836748 , 5.8652124, 5.561718 ],\n",
       "       [5.282711 , 5.3492794, 5.8134127, 5.5981326, 5.156321 ]],\n",
       "      dtype=float32)>"
      ]
     },
     "execution_count": 22,
     "metadata": {},
     "output_type": "execute_result"
    }
   ],
   "source": [
    "tensor_uniform"
   ]
  },
  {
   "cell_type": "markdown",
   "id": "caf3cd80",
   "metadata": {},
   "source": [
    "Matrix multiplcation"
   ]
  },
  {
   "cell_type": "code",
   "execution_count": 23,
   "id": "3641d4b9",
   "metadata": {},
   "outputs": [
    {
     "data": {
      "text/plain": [
       "<tf.Tensor: shape=(2, 2), dtype=int32, numpy=\n",
       "array([[64, 33],\n",
       "       [55, 31]])>"
      ]
     },
     "execution_count": 23,
     "metadata": {},
     "output_type": "execute_result"
    }
   ],
   "source": [
    "tf.matmul(rank2_tensor,rank2_tensor)"
   ]
  },
  {
   "cell_type": "code",
   "execution_count": 24,
   "id": "12a9419e",
   "metadata": {},
   "outputs": [
    {
     "data": {
      "text/plain": [
       "<tf.Tensor: shape=(2, 2), dtype=int32, numpy=\n",
       "array([[64, 33],\n",
       "       [55, 31]])>"
      ]
     },
     "execution_count": 24,
     "metadata": {},
     "output_type": "execute_result"
    }
   ],
   "source": [
    "rank2_tensor @ rank2_tensor"
   ]
  },
  {
   "cell_type": "code",
   "execution_count": 25,
   "id": "cb9482d2",
   "metadata": {},
   "outputs": [
    {
     "data": {
      "text/plain": [
       "<tf.Tensor: shape=(1, 2, 2), dtype=int32, numpy=\n",
       "array([[[7, 3],\n",
       "        [5, 4]]])>"
      ]
     },
     "execution_count": 25,
     "metadata": {},
     "output_type": "execute_result"
    }
   ],
   "source": [
    "rank3_tensor"
   ]
  },
  {
   "cell_type": "code",
   "execution_count": 35,
   "id": "dc235953",
   "metadata": {},
   "outputs": [
    {
     "data": {
      "text/plain": [
       "<tf.Tensor: shape=(3, 2), dtype=float32, numpy=\n",
       "array([[ 3., 10.],\n",
       "       [21., 36.],\n",
       "       [63., 64.]], dtype=float32)>"
      ]
     },
     "execution_count": 35,
     "metadata": {},
     "output_type": "execute_result"
    }
   ],
   "source": [
    "A1 = tf.constant([[3,5],\n",
    "                 [7,6],\n",
    "                 [9,8]], dtype=tf.float32)\n",
    "A2 = tf.constant([[1,2],\n",
    "                 [3,6],\n",
    "                 [7,8]], dtype=tf.float32)\n",
    "\n",
    "tf.multiply(A1, A2)"
   ]
  },
  {
   "cell_type": "code",
   "execution_count": null,
   "id": "c5065e7b",
   "metadata": {},
   "outputs": [],
   "source": []
  }
 ],
 "metadata": {
  "kernelspec": {
   "display_name": "Python 3 (ipykernel)",
   "language": "python",
   "name": "python3"
  },
  "language_info": {
   "codemirror_mode": {
    "name": "ipython",
    "version": 3
   },
   "file_extension": ".py",
   "mimetype": "text/x-python",
   "name": "python",
   "nbconvert_exporter": "python",
   "pygments_lexer": "ipython3",
   "version": "3.12.1"
  }
 },
 "nbformat": 4,
 "nbformat_minor": 5
}
