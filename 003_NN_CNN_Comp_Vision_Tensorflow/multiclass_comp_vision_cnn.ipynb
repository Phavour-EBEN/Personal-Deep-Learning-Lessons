{
 "cells": [
  {
   "cell_type": "markdown",
   "metadata": {},
   "source": [
    "Multiclass classification\n",
    "* Become one with the data\n",
    "* preprocess the data(get it ready fot the model)\n",
    "* create the model\n",
    "* fit the model\n",
    "* evaluate the model\n",
    "* adjust different hyperparameters and improve the models performance\n",
    "* adjust untill satisfied "
   ]
  },
  {
   "cell_type": "code",
   "execution_count": 1,
   "metadata": {},
   "outputs": [
    {
     "ename": "NameError",
     "evalue": "name 'zipfile' is not defined",
     "output_type": "error",
     "traceback": [
      "\u001b[1;31m---------------------------------------------------------------------------\u001b[0m",
      "\u001b[1;31mNameError\u001b[0m                                 Traceback (most recent call last)",
      "Cell \u001b[1;32mIn[1], line 4\u001b[0m\n\u001b[0;32m      1\u001b[0m \u001b[38;5;66;03m# import zipfile \u001b[39;00m\n\u001b[0;32m      2\u001b[0m \u001b[38;5;66;03m# !wget https://storage.googleapis.com/ztm_tf_course/food_vision/10_food_classes_all_data.zip\u001b[39;00m\n\u001b[1;32m----> 4\u001b[0m zip_ref \u001b[38;5;241m=\u001b[39m \u001b[43mzipfile\u001b[49m\u001b[38;5;241m.\u001b[39mZipfile(\u001b[38;5;124m'\u001b[39m\u001b[38;5;124m10_food_classes_all_data.zip\u001b[39m\u001b[38;5;124m'\u001b[39m, \u001b[38;5;124m'\u001b[39m\u001b[38;5;124mr\u001b[39m\u001b[38;5;124m'\u001b[39m)\n\u001b[0;32m      5\u001b[0m zip_ref\u001b[38;5;241m.\u001b[39mextractall(zip_ref)\n\u001b[0;32m      6\u001b[0m zip_ref\u001b[38;5;241m.\u001b[39mclose()\n",
      "\u001b[1;31mNameError\u001b[0m: name 'zipfile' is not defined"
     ]
    }
   ],
   "source": [
    "# import zipfile \n",
    "# !wget https://storage.googleapis.com/ztm_tf_course/food_vision/10_food_classes_all_data.zip\n",
    "\n",
    "zip_ref = zipfile.Zipfile('10_food_classes_all_data.zip', 'r')\n",
    "zip_ref.extractall(zip_ref)\n",
    "zip_ref.close()"
   ]
  },
  {
   "cell_type": "code",
   "execution_count": null,
   "metadata": {},
   "outputs": [],
   "source": []
  }
 ],
 "metadata": {
  "kernelspec": {
   "display_name": "Python 3",
   "language": "python",
   "name": "python3"
  },
  "language_info": {
   "codemirror_mode": {
    "name": "ipython",
    "version": 3
   },
   "file_extension": ".py",
   "mimetype": "text/x-python",
   "name": "python",
   "nbconvert_exporter": "python",
   "pygments_lexer": "ipython3",
   "version": "3.12.1"
  }
 },
 "nbformat": 4,
 "nbformat_minor": 2
}
