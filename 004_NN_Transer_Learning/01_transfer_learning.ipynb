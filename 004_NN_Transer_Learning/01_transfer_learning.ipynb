{
 "cells": [
  {
   "cell_type": "markdown",
   "metadata": {},
   "source": [
    "Transfer learning is leveraging on already existing or pre-trained models for your application"
   ]
  },
  {
   "cell_type": "code",
   "execution_count": 1,
   "metadata": {},
   "outputs": [],
   "source": [
    "import tensorflow as tf\n",
    "import numpy as np\n",
    "import tensorflow_datasets as tfds\n",
    "import matplotlib.pyplot as plt"
   ]
  },
  {
   "cell_type": "code",
   "execution_count": 2,
   "metadata": {},
   "outputs": [
    {
     "data": {
      "text/plain": [
       "'\\n# TODO:Zip file downloade successfully\\n\\n!wget https://storage.googleapis.com/ztm_tf_course/food_vision/10_food_classes_10_percent.zip\\n\\n'"
      ]
     },
     "execution_count": 2,
     "metadata": {},
     "output_type": "execute_result"
    }
   ],
   "source": [
    "'''\n",
    "# TODO:Zip file downloade successfully\n",
    "\n",
    "!wget https://storage.googleapis.com/ztm_tf_course/food_vision/10_food_classes_10_percent.zip\n",
    "\n",
    "'''"
   ]
  },
  {
   "cell_type": "code",
   "execution_count": 3,
   "metadata": {},
   "outputs": [],
   "source": [
    "# import zipfile\n",
    "\n",
    "# zip_ref = zipfile.ZipFile('10_food_classes_10_percent.zip', 'r')\n",
    "# zip_ref.extractall()\n",
    "# zip_ref.close()"
   ]
  },
  {
   "cell_type": "code",
   "execution_count": 4,
   "metadata": {},
   "outputs": [
    {
     "name": "stdout",
     "output_type": "stream",
     "text": [
      "There are 0 files and 2 directories in 10_food_classes_10_percent\n",
      "There are 0 files and 10 directories in 10_food_classes_10_percent\\test\n",
      "There are 250 files and 0 directories in 10_food_classes_10_percent\\test\\chicken_curry\n",
      "There are 250 files and 0 directories in 10_food_classes_10_percent\\test\\chicken_wings\n",
      "There are 250 files and 0 directories in 10_food_classes_10_percent\\test\\fried_rice\n",
      "There are 250 files and 0 directories in 10_food_classes_10_percent\\test\\grilled_salmon\n",
      "There are 250 files and 0 directories in 10_food_classes_10_percent\\test\\hamburger\n",
      "There are 250 files and 0 directories in 10_food_classes_10_percent\\test\\ice_cream\n",
      "There are 250 files and 0 directories in 10_food_classes_10_percent\\test\\pizza\n",
      "There are 250 files and 0 directories in 10_food_classes_10_percent\\test\\ramen\n",
      "There are 250 files and 0 directories in 10_food_classes_10_percent\\test\\steak\n",
      "There are 250 files and 0 directories in 10_food_classes_10_percent\\test\\sushi\n",
      "There are 0 files and 10 directories in 10_food_classes_10_percent\\train\n",
      "There are 75 files and 0 directories in 10_food_classes_10_percent\\train\\chicken_curry\n",
      "There are 75 files and 0 directories in 10_food_classes_10_percent\\train\\chicken_wings\n",
      "There are 75 files and 0 directories in 10_food_classes_10_percent\\train\\fried_rice\n",
      "There are 75 files and 0 directories in 10_food_classes_10_percent\\train\\grilled_salmon\n",
      "There are 75 files and 0 directories in 10_food_classes_10_percent\\train\\hamburger\n",
      "There are 75 files and 0 directories in 10_food_classes_10_percent\\train\\ice_cream\n",
      "There are 75 files and 0 directories in 10_food_classes_10_percent\\train\\pizza\n",
      "There are 75 files and 0 directories in 10_food_classes_10_percent\\train\\ramen\n",
      "There are 75 files and 0 directories in 10_food_classes_10_percent\\train\\steak\n",
      "There are 75 files and 0 directories in 10_food_classes_10_percent\\train\\sushi\n"
     ]
    }
   ],
   "source": [
    "import os\n",
    "# for dirnames, filenames, dirpath in os.walk('10_food_classes_10_percent'):\n",
    "#     print(f\"There are {len(filename)} directories and {len(dirname)} files in the '{dirpath}' \")\n",
    "\n",
    "for dirpath, dirnames, filenames in os.walk('10_food_classes_10_percent'):\n",
    "    print('There are {} files and {} directories in {}'.format(len(filenames), len(dirnames), (dirpath)))"
   ]
  },
  {
   "cell_type": "markdown",
   "metadata": {},
   "source": [
    "Data Preprocessing"
   ]
  },
  {
   "cell_type": "code",
   "execution_count": 5,
   "metadata": {},
   "outputs": [
    {
     "name": "stdout",
     "output_type": "stream",
     "text": [
      "number of training data\n"
     ]
    },
    {
     "name": "stdout",
     "output_type": "stream",
     "text": [
      "Found 750 images belonging to 10 classes.\n",
      "number of testing data\n",
      "Found 2500 images belonging to 10 classes.\n"
     ]
    }
   ],
   "source": [
    "from tensorflow.keras.preprocessing.image import ImageDataGenerator\n",
    "\n",
    "img_size = 224\n",
    "batch_size = 32\n",
    "\n",
    "train_dir = '10_food_classes_10_percent/train'\n",
    "test_dir = '10_food_classes_10_percent/test'\n",
    "\n",
    "\n",
    "train_data_gen = ImageDataGenerator(rescale=1./255)\n",
    "test_data_gen = ImageDataGenerator(rescale=1./255)\n",
    "\n",
    "print('number of training data')\n",
    "train_data = train_data_gen.flow_from_directory(train_dir,\n",
    "                                                target_size = (img_size,img_size),\n",
    "                                                batch_size=batch_size,\n",
    "                                                class_mode='categorical',\n",
    "                                                shuffle=True)\n",
    "\n",
    "print('number of testing data')\n",
    "test_data = test_data_gen.flow_from_directory(test_dir,\n",
    "                                              target_size = (img_size,img_size),\n",
    "                                              batch_size=batch_size,\n",
    "                                              class_mode='categorical',\n",
    "                                              shuffle=True)\n",
    "\n"
   ]
  },
  {
   "cell_type": "markdown",
   "metadata": {},
   "source": [
    "Setting up Callbacks\n",
    "Callbacks are extral functions that you add to your model before or after training\n",
    "* `TensorBoard callback`\n",
    "* `model checkpoint callback`\n",
    "* `Early stopping callback`, etc"
   ]
  },
  {
   "cell_type": "code",
   "execution_count": 6,
   "metadata": {},
   "outputs": [],
   "source": [
    "import datetime\n",
    "\n",
    "def creat_tensorboard(dir_name, experiment_name):\n",
    "    log_dir = dir_name + '/' + experiment_name + datetime.datetime.now().strftime('%Y-%m-%d--%H-%M-%S')\n",
    "    tensorboard_callback = tf.keras.callbacks.TensorBoardCallback(log_dir)\n",
    "    print('saving the tensorboard_callback to {}'.format(log_dir))\n",
    "    return tensorboard_callback "
   ]
  },
  {
   "cell_type": "markdown",
   "metadata": {},
   "source": [
    "Transfer learning parameters"
   ]
  },
  {
   "cell_type": "code",
   "execution_count": 7,
   "metadata": {},
   "outputs": [],
   "source": [
    "# https://tfhub.dev/google/imagenet/mobilenet_v2_100_224/feature_vector/4\n",
    "# # New: EfficientNetB0 feature vector (version 2)\n",
    "# efficientnet_url = \"https://tfhub.dev/google/imagenet/efficientnet_v2_imagenet1k_b0/feature_vector/2\"\n",
    "\n",
    "resnet_url = \"https://tfhub.dev/google/imagenet/resnet_v2_50/feature_vector/4\"\n",
    "efficientnet_url = \"https://tfhub.dev/tensorflow/efficientnet/b0/feature-vector/1\""
   ]
  },
  {
   "cell_type": "code",
   "execution_count": 8,
   "metadata": {},
   "outputs": [
    {
     "name": "stdout",
     "output_type": "stream",
     "text": [
      "WARNING:tensorflow:From c:\\Users\\Phavour\\AppData\\Local\\Programs\\Python\\Python312\\Lib\\site-packages\\tf_keras\\src\\losses.py:2976: The name tf.losses.sparse_softmax_cross_entropy is deprecated. Please use tf.compat.v1.losses.sparse_softmax_cross_entropy instead.\n",
      "\n"
     ]
    }
   ],
   "source": [
    "import tensorflow_hub as hub"
   ]
  },
  {
   "cell_type": "code",
   "execution_count": 10,
   "metadata": {},
   "outputs": [],
   "source": [
    "def create_model(model_url, num_classes=10):\n",
    "    # downloading the model\n",
    "    feature_extractor = hub.KerasLayer(model_url,\n",
    "                                       trainable=False,\n",
    "                                       name = 'feature_extractor_layer',\n",
    "                                       input_shape =(img_size,img_size,3))\n",
    "\n",
    "\n",
    "    model = tf.keras.Sequential([\n",
    "        feature_extractor_layer,\n",
    "        tf.keras.layers.Dense(num_classes, activation='softmax')\n",
    "    ])\n",
    "\n",
    "    return model    "
   ]
  },
  {
   "cell_type": "code",
   "execution_count": null,
   "metadata": {},
   "outputs": [],
   "source": [
    "resnet_model = create_model(resnet_url, num_classes=10)\n",
    "resnet_model.summary()"
   ]
  },
  {
   "cell_type": "code",
   "execution_count": null,
   "metadata": {},
   "outputs": [],
   "source": []
  }
 ],
 "metadata": {
  "kernelspec": {
   "display_name": "Python 3",
   "language": "python",
   "name": "python3"
  },
  "language_info": {
   "codemirror_mode": {
    "name": "ipython",
    "version": 3
   },
   "file_extension": ".py",
   "mimetype": "text/x-python",
   "name": "python",
   "nbconvert_exporter": "python",
   "pygments_lexer": "ipython3",
   "version": "3.12.1"
  }
 },
 "nbformat": 4,
 "nbformat_minor": 2
}
