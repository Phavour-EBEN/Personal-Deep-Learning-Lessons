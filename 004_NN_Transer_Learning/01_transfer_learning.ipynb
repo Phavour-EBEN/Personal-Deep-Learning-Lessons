{
 "cells": [
  {
   "cell_type": "markdown",
   "metadata": {},
   "source": [
    "Transfer learning is leveraging on already existing or pre-trained models for your application"
   ]
  },
  {
   "cell_type": "code",
   "execution_count": 1,
   "metadata": {},
   "outputs": [],
   "source": [
    "import tensorflow as tf\n",
    "import numpy as np\n",
    "import tensorflow_datasets as tfds\n",
    "import matplotlib.pyplot as plt"
   ]
  },
  {
   "cell_type": "code",
   "execution_count": 2,
   "metadata": {},
   "outputs": [
    {
     "data": {
      "text/plain": [
       "'\\n# TODO:Zip file downloade successfully\\n\\n!wget https://storage.googleapis.com/ztm_tf_course/food_vision/10_food_classes_10_percent.zip\\n\\n'"
      ]
     },
     "execution_count": 2,
     "metadata": {},
     "output_type": "execute_result"
    }
   ],
   "source": [
    "'''\n",
    "# TODO:Zip file downloade successfully\n",
    "\n",
    "!wget https://storage.googleapis.com/ztm_tf_course/food_vision/10_food_classes_10_percent.zip\n",
    "\n",
    "'''"
   ]
  },
  {
   "cell_type": "code",
   "execution_count": 3,
   "metadata": {},
   "outputs": [],
   "source": [
    "# import zipfile\n",
    "\n",
    "# zip_ref = zipfile.ZipFile('10_food_classes_10_percent.zip', 'r')\n",
    "# zip_ref.extractall()\n",
    "# zip_ref.close()"
   ]
  },
  {
   "cell_type": "code",
   "execution_count": 2,
   "metadata": {},
   "outputs": [
    {
     "name": "stdout",
     "output_type": "stream",
     "text": [
      "There are 0 files and 2 directories in 10_food_classes_10_percent\n",
      "There are 0 files and 10 directories in 10_food_classes_10_percent\\test\n",
      "There are 250 files and 0 directories in 10_food_classes_10_percent\\test\\chicken_curry\n",
      "There are 250 files and 0 directories in 10_food_classes_10_percent\\test\\chicken_wings\n",
      "There are 250 files and 0 directories in 10_food_classes_10_percent\\test\\fried_rice\n",
      "There are 250 files and 0 directories in 10_food_classes_10_percent\\test\\grilled_salmon\n",
      "There are 250 files and 0 directories in 10_food_classes_10_percent\\test\\hamburger\n",
      "There are 250 files and 0 directories in 10_food_classes_10_percent\\test\\ice_cream\n",
      "There are 250 files and 0 directories in 10_food_classes_10_percent\\test\\pizza\n",
      "There are 250 files and 0 directories in 10_food_classes_10_percent\\test\\ramen\n",
      "There are 250 files and 0 directories in 10_food_classes_10_percent\\test\\steak\n",
      "There are 250 files and 0 directories in 10_food_classes_10_percent\\test\\sushi\n",
      "There are 0 files and 10 directories in 10_food_classes_10_percent\\train\n",
      "There are 75 files and 0 directories in 10_food_classes_10_percent\\train\\chicken_curry\n",
      "There are 75 files and 0 directories in 10_food_classes_10_percent\\train\\chicken_wings\n",
      "There are 75 files and 0 directories in 10_food_classes_10_percent\\train\\fried_rice\n",
      "There are 75 files and 0 directories in 10_food_classes_10_percent\\train\\grilled_salmon\n",
      "There are 75 files and 0 directories in 10_food_classes_10_percent\\train\\hamburger\n",
      "There are 75 files and 0 directories in 10_food_classes_10_percent\\train\\ice_cream\n",
      "There are 75 files and 0 directories in 10_food_classes_10_percent\\train\\pizza\n",
      "There are 75 files and 0 directories in 10_food_classes_10_percent\\train\\ramen\n",
      "There are 75 files and 0 directories in 10_food_classes_10_percent\\train\\steak\n",
      "There are 75 files and 0 directories in 10_food_classes_10_percent\\train\\sushi\n"
     ]
    }
   ],
   "source": [
    "import os\n",
    "# for dirnames, filenames, dirpath in os.walk('10_food_classes_10_percent'):\n",
    "#     print(f\"There are {len(filename)} directories and {len(dirname)} files in the '{dirpath}' \")\n",
    "\n",
    "for dirpath, dirnames, filenames in os.walk('10_food_classes_10_percent'):\n",
    "    print('There are {} files and {} directories in {}'.format(len(filenames), len(dirnames), (dirpath)))"
   ]
  },
  {
   "cell_type": "markdown",
   "metadata": {},
   "source": [
    "Data Preprocessing"
   ]
  },
  {
   "cell_type": "code",
   "execution_count": 3,
   "metadata": {},
   "outputs": [
    {
     "name": "stdout",
     "output_type": "stream",
     "text": [
      "number of training data\n",
      "Found 750 images belonging to 10 classes.\n",
      "number of testing data\n",
      "Found 2500 images belonging to 10 classes.\n"
     ]
    }
   ],
   "source": [
    "from tensorflow.keras.preprocessing.image import ImageDataGenerator\n",
    "\n",
    "img_size = 224\n",
    "batch_size = 32\n",
    "\n",
    "train_dir = '10_food_classes_10_percent/train'\n",
    "test_dir = '10_food_classes_10_percent/test'\n",
    "\n",
    "\n",
    "train_data_gen = ImageDataGenerator(rescale=1./255)\n",
    "test_data_gen = ImageDataGenerator(rescale=1./255)\n",
    "\n",
    "print('number of training data')\n",
    "train_data = train_data_gen.flow_from_directory(train_dir,\n",
    "                                                target_size = (img_size,img_size),\n",
    "                                                batch_size=batch_size,\n",
    "                                                class_mode='categorical',\n",
    "                                                shuffle=True)\n",
    "\n",
    "print('number of testing data')\n",
    "test_data = test_data_gen.flow_from_directory(test_dir,\n",
    "                                              target_size = (img_size,img_size),\n",
    "                                              batch_size=batch_size,\n",
    "                                              class_mode='categorical',\n",
    "                                              shuffle=True)\n",
    "\n"
   ]
  },
  {
   "cell_type": "markdown",
   "metadata": {},
   "source": [
    "Setting up Callbacks\n",
    "Callbacks are extral functions that you add to your model before or after training\n",
    "* `TensorBoard callback`\n",
    "* `model checkpoint callback`\n",
    "* `Early stopping callback`, etc"
   ]
  },
  {
   "cell_type": "code",
   "execution_count": 6,
   "metadata": {},
   "outputs": [],
   "source": [
    "import datetime\n",
    "\n",
    "def creat_tensorboard(dir_name, experiment_name):\n",
    "    log_dir = dir_name + '/' + experiment_name + datetime.datetime.now().strftime('%Y-%m-%d--%H-%M-%S')\n",
    "    tensorboard_callback = tf.keras.callbacks.TensorBoardCallback(log_dir)\n",
    "    print('saving the tensorboard_callback to {}'.format(log_dir))\n",
    "    return tensorboard_callback "
   ]
  },
  {
   "cell_type": "markdown",
   "metadata": {},
   "source": [
    "Transfer learning parameters"
   ]
  },
  {
   "cell_type": "code",
   "execution_count": 7,
   "metadata": {},
   "outputs": [],
   "source": [
    "import tensorflow_hub as hub\n",
    "# https://tfhub.dev/google/imagenet/mobilenet_v2_100_224/feature_vector/4\n",
    "# # New: EfficientNetB0 feature vector (version 2)\n",
    "# efficientnet_url = \"https://tfhub.dev/google/imagenet/efficientnet_v2_imagenet1k_b0/feature_vector/2\"\n",
    "\n",
    "resnet_url = \"https://tfhub.dev/google/imagenet/resnet_v2_50/feature_vector/4\"\n",
    "efficientnet_url = \"https://tfhub.dev/tensorflow/efficientnet/b0/feature-vector/1\""
   ]
  },
  {
   "cell_type": "code",
   "execution_count": 4,
   "metadata": {},
   "outputs": [],
   "source": [
    "from tensorflow.keras.applications import ResNet50V2, EfficientNetV2B0, VGG16\n",
    "\n",
    "def create_model(model_instance, num_classes=10):\n",
    "    model = tf.keras.Sequential()\n",
    "    for layer in model_instance.layers[:-1]:\n",
    "        model.add(layer)\n",
    "    for layer in model.layers:\n",
    "        layer.trainable = False\n",
    "    model.add(tf.keras.layers.Dense(num_classes, activation='softmax'))\n",
    "    return model"
   ]
  },
  {
   "cell_type": "code",
   "execution_count": 6,
   "metadata": {},
   "outputs": [
    {
     "name": "stdout",
     "output_type": "stream",
     "text": [
      "Downloading data from https://storage.googleapis.com/tensorflow/keras-applications/vgg16/vgg16_weights_tf_dim_ordering_tf_kernels.h5\n",
      "\u001b[1m278487040/553467096\u001b[0m \u001b[32m━━━━━━━━━━\u001b[0m\u001b[37m━━━━━━━━━━\u001b[0m \u001b[1m26:56\u001b[0m 6us/step"
     ]
    },
    {
     "ename": "OSError",
     "evalue": "[Errno 28] No space left on device",
     "output_type": "error",
     "traceback": [
      "\u001b[1;31m---------------------------------------------------------------------------\u001b[0m",
      "\u001b[1;31mOSError\u001b[0m                                   Traceback (most recent call last)",
      "File \u001b[1;32mc:\\Users\\Phavour\\AppData\\Local\\Programs\\Python\\Python312\\Lib\\urllib\\request.py:270\u001b[0m, in \u001b[0;36murlretrieve\u001b[1;34m(url, filename, reporthook, data)\u001b[0m\n\u001b[0;32m    269\u001b[0m read \u001b[38;5;241m+\u001b[39m\u001b[38;5;241m=\u001b[39m \u001b[38;5;28mlen\u001b[39m(block)\n\u001b[1;32m--> 270\u001b[0m \u001b[43mtfp\u001b[49m\u001b[38;5;241;43m.\u001b[39;49m\u001b[43mwrite\u001b[49m\u001b[43m(\u001b[49m\u001b[43mblock\u001b[49m\u001b[43m)\u001b[49m\n\u001b[0;32m    271\u001b[0m blocknum \u001b[38;5;241m+\u001b[39m\u001b[38;5;241m=\u001b[39m \u001b[38;5;241m1\u001b[39m\n",
      "\u001b[1;31mOSError\u001b[0m: [Errno 28] No space left on device",
      "\nDuring handling of the above exception, another exception occurred:\n",
      "\u001b[1;31mOSError\u001b[0m                                   Traceback (most recent call last)",
      "Cell \u001b[1;32mIn[6], line 1\u001b[0m\n\u001b[1;32m----> 1\u001b[0m resnet_model \u001b[38;5;241m=\u001b[39m create_model(\u001b[43mVGG16\u001b[49m\u001b[43m(\u001b[49m\u001b[43m)\u001b[49m, num_classes\u001b[38;5;241m=\u001b[39m\u001b[38;5;241m10\u001b[39m)\n\u001b[0;32m      2\u001b[0m resnet_model\u001b[38;5;241m.\u001b[39msummary()\n",
      "File \u001b[1;32mc:\\Users\\Phavour\\AppData\\Local\\Programs\\Python\\Python312\\Lib\\site-packages\\keras\\src\\applications\\vgg16.py:211\u001b[0m, in \u001b[0;36mVGG16\u001b[1;34m(include_top, weights, input_tensor, input_shape, pooling, classes, classifier_activation, name)\u001b[0m\n\u001b[0;32m    209\u001b[0m \u001b[38;5;28;01mif\u001b[39;00m weights \u001b[38;5;241m==\u001b[39m \u001b[38;5;124m\"\u001b[39m\u001b[38;5;124mimagenet\u001b[39m\u001b[38;5;124m\"\u001b[39m:\n\u001b[0;32m    210\u001b[0m     \u001b[38;5;28;01mif\u001b[39;00m include_top:\n\u001b[1;32m--> 211\u001b[0m         weights_path \u001b[38;5;241m=\u001b[39m \u001b[43mfile_utils\u001b[49m\u001b[38;5;241;43m.\u001b[39;49m\u001b[43mget_file\u001b[49m\u001b[43m(\u001b[49m\n\u001b[0;32m    212\u001b[0m \u001b[43m            \u001b[49m\u001b[38;5;124;43m\"\u001b[39;49m\u001b[38;5;124;43mvgg16_weights_tf_dim_ordering_tf_kernels.h5\u001b[39;49m\u001b[38;5;124;43m\"\u001b[39;49m\u001b[43m,\u001b[49m\n\u001b[0;32m    213\u001b[0m \u001b[43m            \u001b[49m\u001b[43mWEIGHTS_PATH\u001b[49m\u001b[43m,\u001b[49m\n\u001b[0;32m    214\u001b[0m \u001b[43m            \u001b[49m\u001b[43mcache_subdir\u001b[49m\u001b[38;5;241;43m=\u001b[39;49m\u001b[38;5;124;43m\"\u001b[39;49m\u001b[38;5;124;43mmodels\u001b[39;49m\u001b[38;5;124;43m\"\u001b[39;49m\u001b[43m,\u001b[49m\n\u001b[0;32m    215\u001b[0m \u001b[43m            \u001b[49m\u001b[43mfile_hash\u001b[49m\u001b[38;5;241;43m=\u001b[39;49m\u001b[38;5;124;43m\"\u001b[39;49m\u001b[38;5;124;43m64373286793e3c8b2b4e3219cbf3544b\u001b[39;49m\u001b[38;5;124;43m\"\u001b[39;49m\u001b[43m,\u001b[49m\n\u001b[0;32m    216\u001b[0m \u001b[43m        \u001b[49m\u001b[43m)\u001b[49m\n\u001b[0;32m    217\u001b[0m     \u001b[38;5;28;01melse\u001b[39;00m:\n\u001b[0;32m    218\u001b[0m         weights_path \u001b[38;5;241m=\u001b[39m file_utils\u001b[38;5;241m.\u001b[39mget_file(\n\u001b[0;32m    219\u001b[0m             \u001b[38;5;124m\"\u001b[39m\u001b[38;5;124mvgg16_weights_tf_dim_ordering_tf_kernels_notop.h5\u001b[39m\u001b[38;5;124m\"\u001b[39m,\n\u001b[0;32m    220\u001b[0m             WEIGHTS_PATH_NO_TOP,\n\u001b[0;32m    221\u001b[0m             cache_subdir\u001b[38;5;241m=\u001b[39m\u001b[38;5;124m\"\u001b[39m\u001b[38;5;124mmodels\u001b[39m\u001b[38;5;124m\"\u001b[39m,\n\u001b[0;32m    222\u001b[0m             file_hash\u001b[38;5;241m=\u001b[39m\u001b[38;5;124m\"\u001b[39m\u001b[38;5;124m6d6bbae143d832006294945121d1f1fc\u001b[39m\u001b[38;5;124m\"\u001b[39m,\n\u001b[0;32m    223\u001b[0m         )\n",
      "File \u001b[1;32mc:\\Users\\Phavour\\AppData\\Local\\Programs\\Python\\Python312\\Lib\\site-packages\\keras\\src\\utils\\file_utils.py:309\u001b[0m, in \u001b[0;36mget_file\u001b[1;34m(fname, origin, untar, md5_hash, file_hash, cache_subdir, hash_algorithm, extract, archive_format, cache_dir, force_download)\u001b[0m\n\u001b[0;32m    307\u001b[0m \u001b[38;5;28;01mtry\u001b[39;00m:\n\u001b[0;32m    308\u001b[0m     \u001b[38;5;28;01mtry\u001b[39;00m:\n\u001b[1;32m--> 309\u001b[0m         \u001b[43murlretrieve\u001b[49m\u001b[43m(\u001b[49m\u001b[43morigin\u001b[49m\u001b[43m,\u001b[49m\u001b[43m \u001b[49m\u001b[43mdownload_target\u001b[49m\u001b[43m,\u001b[49m\u001b[43m \u001b[49m\u001b[43mDLProgbar\u001b[49m\u001b[43m(\u001b[49m\u001b[43m)\u001b[49m\u001b[43m)\u001b[49m\n\u001b[0;32m    310\u001b[0m     \u001b[38;5;28;01mexcept\u001b[39;00m urllib\u001b[38;5;241m.\u001b[39merror\u001b[38;5;241m.\u001b[39mHTTPError \u001b[38;5;28;01mas\u001b[39;00m e:\n\u001b[0;32m    311\u001b[0m         \u001b[38;5;28;01mraise\u001b[39;00m \u001b[38;5;167;01mException\u001b[39;00m(error_msg\u001b[38;5;241m.\u001b[39mformat(origin, e\u001b[38;5;241m.\u001b[39mcode, e\u001b[38;5;241m.\u001b[39mmsg))\n",
      "File \u001b[1;32mc:\\Users\\Phavour\\AppData\\Local\\Programs\\Python\\Python312\\Lib\\urllib\\request.py:256\u001b[0m, in \u001b[0;36murlretrieve\u001b[1;34m(url, filename, reporthook, data)\u001b[0m\n\u001b[0;32m    253\u001b[0m     filename \u001b[38;5;241m=\u001b[39m tfp\u001b[38;5;241m.\u001b[39mname\n\u001b[0;32m    254\u001b[0m     _url_tempfiles\u001b[38;5;241m.\u001b[39mappend(filename)\n\u001b[1;32m--> 256\u001b[0m \u001b[43m\u001b[49m\u001b[38;5;28;43;01mwith\u001b[39;49;00m\u001b[43m \u001b[49m\u001b[43mtfp\u001b[49m\u001b[43m:\u001b[49m\n\u001b[0;32m    257\u001b[0m \u001b[43m    \u001b[49m\u001b[43mresult\u001b[49m\u001b[43m \u001b[49m\u001b[38;5;241;43m=\u001b[39;49m\u001b[43m \u001b[49m\u001b[43mfilename\u001b[49m\u001b[43m,\u001b[49m\u001b[43m \u001b[49m\u001b[43mheaders\u001b[49m\n\u001b[0;32m    258\u001b[0m \u001b[43m    \u001b[49m\u001b[43mbs\u001b[49m\u001b[43m \u001b[49m\u001b[38;5;241;43m=\u001b[39;49m\u001b[43m \u001b[49m\u001b[38;5;241;43m1024\u001b[39;49m\u001b[38;5;241;43m*\u001b[39;49m\u001b[38;5;241;43m8\u001b[39;49m\n",
      "\u001b[1;31mOSError\u001b[0m: [Errno 28] No space left on device"
     ]
    }
   ],
   "source": [
    "resnet_model = create_model(VGG16(), num_classes=10)\n",
    "resnet_model.summary()"
   ]
  },
  {
   "cell_type": "code",
   "execution_count": null,
   "metadata": {},
   "outputs": [],
   "source": []
  }
 ],
 "metadata": {
  "kernelspec": {
   "display_name": "Python 3",
   "language": "python",
   "name": "python3"
  },
  "language_info": {
   "codemirror_mode": {
    "name": "ipython",
    "version": 3
   },
   "file_extension": ".py",
   "mimetype": "text/x-python",
   "name": "python",
   "nbconvert_exporter": "python",
   "pygments_lexer": "ipython3",
   "version": "3.12.1"
  }
 },
 "nbformat": 4,
 "nbformat_minor": 2
}
